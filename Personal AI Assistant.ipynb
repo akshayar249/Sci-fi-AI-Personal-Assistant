{
 "cells": [
  {
   "cell_type": "code",
   "execution_count": 1,
   "id": "9d108a39-acc6-4e8a-884b-130539e9977a",
   "metadata": {},
   "outputs": [],
   "source": [
    "import os\n",
    "import time\n",
    "import subprocess\n",
    "import json\n"
   ]
  },
  {
   "cell_type": "code",
   "execution_count": 2,
   "id": "e61ef5bc-d28c-4ddf-a7e8-3ac1ba3c1171",
   "metadata": {},
   "outputs": [],
   "source": [
    "import wolframalpha\n",
    "import requests\n",
    "import webbrowser\n",
    "import wikipedia\n",
    "import datetime"
   ]
  },
  {
   "cell_type": "code",
   "execution_count": 3,
   "id": "17e70ec5-762a-4956-aecb-cf2048ec7409",
   "metadata": {},
   "outputs": [],
   "source": [
    "import wolframalpha\n",
    "import requests\n",
    "import webbrowser\n",
    "import wikipedia\n",
    "import datetime"
   ]
  },
  {
   "cell_type": "code",
   "execution_count": 4,
   "id": "1306bd0b-658e-4325-9c03-7061afc95f0e",
   "metadata": {},
   "outputs": [],
   "source": [
    "import speech_recognition as sr\n",
    "import pyttsx3\n"
   ]
  },
  {
   "cell_type": "code",
   "execution_count": 5,
   "id": "ead1ae23-83c0-46df-936c-8cb66a2b70dc",
   "metadata": {},
   "outputs": [
    {
     "name": "stdout",
     "output_type": "stream",
     "text": [
      "LOADING YOUR AI PERSONAL ASSISTANT JARVIS\n"
     ]
    }
   ],
   "source": [
    "print('LOADING YOUR AI PERSONAL ASSISTANT JARVIS')\n"
   ]
  },
  {
   "cell_type": "code",
   "execution_count": 6,
   "id": "d094d595-7248-4103-805e-e55edbe23521",
   "metadata": {},
   "outputs": [],
   "source": [
    "\n",
    "import pyttsx3\n",
    "\n",
    "engine = pyttsx3.init('sapi5')  # Windows driver\n",
    "voices = engine.getProperty('voices')\n",
    "engine.setProperty(\"voice\", voices[0].id)\n",
    "\n"
   ]
  },
  {
   "cell_type": "code",
   "execution_count": 7,
   "id": "43366467-c3ca-418b-ab2f-f7c6ce4585e7",
   "metadata": {},
   "outputs": [],
   "source": [
    "\n",
    "def speak(text):\n",
    "    engine.say(text)\n",
    "    engine.runAndWait()\n",
    "    \n"
   ]
  },
  {
   "cell_type": "code",
   "execution_count": 8,
   "id": "a1804394-88cf-4e54-a332-2b3b28799571",
   "metadata": {},
   "outputs": [],
   "source": [
    "\n",
    "def wishMe():\n",
    "    hour=datetime.datetime.now().hour\n",
    "    if hour>=0 and hour<12:\n",
    "        speak(\"hello,good morning Mr.Rayan\")\n",
    "        print(\"hello,good morning Mr.Rayan\")\n",
    "    elif hour >=12 and hour<=18:\n",
    "        speak(\"hello,Good afternoon Mr.Rayan\")\n",
    "        print(\"hello,Good afternoon Mr.Rayan\")\n",
    "    else:\n",
    "        speak(\"Its already the night time better go to sleep\")\n",
    "        print(\"Its already the night time better go to sleep\")\n",
    "\n",
    "\n"
   ]
  },
  {
   "cell_type": "code",
   "execution_count": 9,
   "id": "38ad84ea-8870-4cad-b3b5-45c00b8f9087",
   "metadata": {},
   "outputs": [],
   "source": [
    "def takeCommand():\n",
    "    r=sr.Recognizer()\n",
    "    with sr.Microphone() as source:\n",
    "        print(\"I AM LISTENING\")\n",
    "        audio=r.listen(source)\n",
    "        try:\n",
    "            statement = r.recognize_google(audio,language='en-in')\n",
    "            print(f\"user said:{statement}\\n\")\n",
    "        except Exception as e:\n",
    "            speak(\"pardon me,please say that again\")\n",
    "            return \"None\"\n",
    "        return statement\n",
    "            "
   ]
  },
  {
   "cell_type": "code",
   "execution_count": 10,
   "id": "e40e181b-785a-4f29-8056-06f5bc464b49",
   "metadata": {},
   "outputs": [
    {
     "name": "stdout",
     "output_type": "stream",
     "text": [
      "hello,good morning Mr.Rayan\n"
     ]
    }
   ],
   "source": [
    "speak(\"LOADING YOU PERSONAL AI ASSISTANT JARVIS\")\n",
    "wishMe()\n"
   ]
  },
  {
   "cell_type": "code",
   "execution_count": null,
   "id": "5c74bf80-c19c-4629-ad1b-552bb750d5ed",
   "metadata": {},
   "outputs": [
    {
     "name": "stdout",
     "output_type": "stream",
     "text": [
      "Listening...\n",
      "Recognizing...\n",
      "Say that again please...\n",
      "Listening...\n",
      "Recognizing...\n",
      "Say that again please...\n",
      "Listening...\n",
      "Recognizing...\n",
      "Say that again please...\n",
      "Listening...\n",
      "Recognizing...\n",
      "Say that again please...\n",
      "Listening...\n",
      "Recognizing...\n",
      "Say that again please...\n",
      "Listening...\n",
      "Recognizing...\n",
      "Say that again please...\n",
      "Listening...\n",
      "Recognizing...\n",
      "Say that again please...\n"
     ]
    }
   ],
   "source": [
    "import pyttsx3\n",
    "import speech_recognition as sr\n",
    "import datetime\n",
    "import wikipedia\n",
    "import webbrowser\n",
    "import time\n",
    "import requests\n",
    "import subprocess\n",
    "import wolframalpha\n",
    "\n",
    "# Initialize text-to-speech engine\n",
    "engine = pyttsx3.init()\n",
    "\n",
    "def speak(text):\n",
    "    \"\"\"Convert text to speech.\"\"\"\n",
    "    engine.say(text)\n",
    "    engine.runAndWait()\n",
    "\n",
    "def takeCommand():\n",
    "    \"\"\"Takes voice input from the user and returns it as text.\"\"\"\n",
    "    r = sr.Recognizer()\n",
    "    with sr.Microphone() as source:\n",
    "        print(\"Listening...\")\n",
    "        r.pause_threshold = 1\n",
    "        audio = r.listen(source)\n",
    "    try:\n",
    "        print(\"Recognizing...\")\n",
    "        query = r.recognize_google(audio, language='en-in')\n",
    "        print(f\"User said: {query}\")\n",
    "    except Exception as e:\n",
    "        print(\"Say that again please...\")\n",
    "        return \"0\"\n",
    "    return query\n",
    "\n",
    "if __name__ == '__main__':\n",
    "    while True:\n",
    "        speak(\"How can I help you?\")\n",
    "        statement = takeCommand().lower()\n",
    "\n",
    "        if statement == \"0\":\n",
    "            continue\n",
    "\n",
    "        if \"good bye\" in statement or \"ok bye\" in statement or \"stop\" in statement:\n",
    "            speak(\"Your personal AI assistant JARVIS is shutting down, Good bye\")\n",
    "            print(\"Your personal AI assistant JARVIS is shutting down, Good bye\")\n",
    "            break\n",
    "\n",
    "        elif 'wikipedia' in statement:\n",
    "            speak(\"Searching Wikipedia...\")\n",
    "            statement = statement.replace(\"wikipedia\", \"\")\n",
    "            results = wikipedia.summary(statement, sentences=3)\n",
    "            speak(\"According to Wikipedia\")\n",
    "            print(results)\n",
    "            speak(results)\n",
    "\n",
    "        elif \"open youtube\" in statement:\n",
    "            webbrowser.open_new_tab(\"https://www.youtube.com\")\n",
    "            speak(\"YouTube is open for you\")\n",
    "            time.sleep(5)\n",
    "\n",
    "        elif \"open google\" in statement:\n",
    "            webbrowser.open_new_tab(\"https://www.google.com\")\n",
    "            speak(\"Google search is open for you\")\n",
    "\n",
    "        elif \"open gmail\" in statement:\n",
    "            webbrowser.open_new_tab(\"https://mail.google.com\")\n",
    "            speak(\"Your Gmail is open for you\")\n",
    "            time.sleep(5)\n",
    "\n",
    "        elif \"weather\" in statement:\n",
    "            api_key = \"8ef61edcf1c576d65d836254e11ea420\"\n",
    "            base_url = \"https://api.openweathermap.org/data/2.5/weather?\"\n",
    "            speak(\"What's the city name?\")\n",
    "            city_name = takeCommand()\n",
    "            complete_url = base_url + \"appid=\" + api_key + \"&q=\" + city_name\n",
    "            response = requests.get(complete_url)\n",
    "            x = response.json()\n",
    "            if x[\"cod\"] != \"404\":\n",
    "                y = x[\"main\"]\n",
    "                current_temperature = y[\"temp\"]\n",
    "                current_humidity = y[\"humidity\"]\n",
    "                z = x[\"weather\"]\n",
    "                weather_description = z[0][\"description\"]\n",
    "                speak(f\"The temperature in Kelvin is {current_temperature}, \"\n",
    "                      f\"humidity is {current_humidity}%, \"\n",
    "                      f\"and the weather is {weather_description}.\")\n",
    "                print(f\"Temp: {current_temperature}K\\nHumidity: {current_humidity}%\\nWeather: {weather_description}\")\n",
    "            else:\n",
    "                speak(\"City not found\")\n",
    "                print(\"City not found\")\n",
    "\n",
    "        elif \"time\" in statement:\n",
    "            strTime = datetime.datetime.now().strftime(\"%H:%M:%S\")\n",
    "            speak(f\"The time is {strTime}\")\n",
    "\n",
    "        elif \"who are you\" in statement or \"what can you do\" in statement:\n",
    "            speak(\"I am JARVIS version 1.0, your personal assistant. I can open websites, tell the time, \"\n",
    "                  \"search Wikipedia, predict weather in cities, get news, and answer computational questions.\")\n",
    "\n",
    "        elif \"who made you\" in statement or \"who created you\" in statement:\n",
    "            speak(\"I was built by AI Robosoft\")\n",
    "            print(\"I WAS BUILT BY Ai Robosoft\")\n",
    "\n",
    "        elif \"open stack overflow\" in statement:\n",
    "            webbrowser.open_new_tab(\"https://stackoverflow.com/login\")\n",
    "            time.sleep(5)\n",
    "\n",
    "        elif \"news\" in statement:\n",
    "            webbrowser.open_new_tab(\"https://timesofindia.indiatimes.com/home/headlines\")\n",
    "            speak(\"Here are some headlines from Times of India.\")\n",
    "            time.sleep(7)\n",
    "\n",
    "        elif \"search\" in statement:\n",
    "            query = statement.replace(\"search\", \"\")\n",
    "            webbrowser.open_new_tab(f\"https://www.google.com/search?q={query}\")\n",
    "            time.sleep(5)\n",
    "\n",
    "        elif \"ask\" in statement:\n",
    "            speak(\"I can answer computational and geographical questions. Try me!\")\n",
    "            question = takeCommand()\n",
    "            app_id = \"R2K75H-7ELALHR35X\"\n",
    "            client = wolframalpha.Client(app_id)\n",
    "            res = client.query(question)\n",
    "            answer = next(res.results).text\n",
    "            speak(answer)\n",
    "            print(answer)\n",
    "\n",
    "        elif \"log off\" in statement or \"sign out\" in statement or \"shutdown\" in statement:\n",
    "            speak(\"Ok, your PC will log off in 10 seconds. Make sure you have saved all work.\")\n",
    "            subprocess.call([\"shutdown\", \"/l\"])\n",
    "\n",
    "        time.sleep(3)\n",
    "\n",
    "            \n",
    "            \n",
    "                                    \n",
    "            \n",
    "            "
   ]
  },
  {
   "cell_type": "code",
   "execution_count": null,
   "id": "c3fef353-1930-45a8-8187-55dd88e82451",
   "metadata": {},
   "outputs": [],
   "source": []
  },
  {
   "cell_type": "code",
   "execution_count": null,
   "id": "bc4d8e50-4a95-4cbb-b411-f4327b188306",
   "metadata": {},
   "outputs": [],
   "source": []
  }
 ],
 "metadata": {
  "kernelspec": {
   "display_name": "Python 3 (ipykernel)",
   "language": "python",
   "name": "python3"
  },
  "language_info": {
   "codemirror_mode": {
    "name": "ipython",
    "version": 3
   },
   "file_extension": ".py",
   "mimetype": "text/x-python",
   "name": "python",
   "nbconvert_exporter": "python",
   "pygments_lexer": "ipython3",
   "version": "3.12.3"
  }
 },
 "nbformat": 4,
 "nbformat_minor": 5
}
